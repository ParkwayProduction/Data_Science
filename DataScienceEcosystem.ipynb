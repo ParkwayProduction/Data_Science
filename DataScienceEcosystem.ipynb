{
  "nbformat": 4,
  "nbformat_minor": 0,
  "metadata": {
    "colab": {
      "provenance": []
    },
    "kernelspec": {
      "name": "python3",
      "display_name": "Python 3"
    },
    "language_info": {
      "name": "python"
    }
  },
  "cells": [
    {
      "cell_type": "markdown",
      "source": [
        "# Data Science Tools and Ecosystem"
      ],
      "metadata": {
        "id": "sR0AGqqAZu8d"
      }
    },
    {
      "cell_type": "markdown",
      "source": [
        "In this notebook, Data Science Tools and Ecosystem are summarized."
      ],
      "metadata": {
        "id": "G3R58pUBawoJ"
      }
    },
    {
      "cell_type": "markdown",
      "source": [
        "Some of the popular languages that Data Scientists use are:\n",
        "\n",
        "1.   Python\n",
        "2.   R\n",
        "3.   SQL\n"
      ],
      "metadata": {
        "id": "Y9f4H9rTbSKp"
      }
    },
    {
      "cell_type": "markdown",
      "source": [
        "Some of the commonly used libraries used by Data Scientists include:\n",
        "\n",
        "\n",
        "*   ggplot2\n",
        "*   Scikit-learn\n",
        "*   Pandas\n",
        "*   Numpy\n",
        "\n",
        "\n",
        "\n",
        "\n",
        "\n"
      ],
      "metadata": {
        "id": "Zt2LeFpqdQTA"
      }
    },
    {
      "cell_type": "markdown",
      "source": [
        "|Data Science Tools|\n",
        "|-----|\n",
        "| Jupter Lab|\n",
        "| Rstudio |\n",
        "| Spyder |"
      ],
      "metadata": {
        "id": "Z8ciY-_dp_PX"
      }
    },
    {
      "cell_type": "markdown",
      "source": [
        "### Below are a few examples of evaluating arithmetic expressions in Python"
      ],
      "metadata": {
        "id": "TC7-yDBZsg6M"
      }
    },
    {
      "cell_type": "code",
      "source": [
        "# This a simple arithmetic expression to mutiply then add integers\n",
        "(3*4)+5."
      ],
      "metadata": {
        "colab": {
          "base_uri": "https://localhost:8080/"
        },
        "id": "LjKFvExltN8A",
        "outputId": "4d2e7496-44fe-4dc3-91a1-6c6d3ba2b67b"
      },
      "execution_count": 11,
      "outputs": [
        {
          "output_type": "execute_result",
          "data": {
            "text/plain": [
              "17.0"
            ]
          },
          "metadata": {},
          "execution_count": 11
        }
      ]
    },
    {
      "cell_type": "code",
      "source": [
        "# This will convert 200 minutes to hours by diving by 60\n",
        "200/60"
      ],
      "metadata": {
        "colab": {
          "base_uri": "https://localhost:8080/"
        },
        "id": "kE3PqVeDtQ-9",
        "outputId": "ca500d9d-fb7f-4089-f877-b2c818bae5eb"
      },
      "execution_count": 12,
      "outputs": [
        {
          "output_type": "execute_result",
          "data": {
            "text/plain": [
              "3.3333333333333335"
            ]
          },
          "metadata": {},
          "execution_count": 12
        }
      ]
    },
    {
      "cell_type": "markdown",
      "source": [
        "**Objectives:**\n",
        "\n",
        "\n",
        "*   arithmetic expression to mutiply then add integers\n",
        "*   Converting 200 minutes to hours\n",
        "*   Libraries used by Data Scientists\n",
        "\n",
        "\n",
        "\n",
        "\n"
      ],
      "metadata": {
        "id": "tdSOsa1awU6K"
      }
    },
    {
      "cell_type": "markdown",
      "source": [
        "##Author##\n",
        "Parkway Production"
      ],
      "metadata": {
        "id": "lz_BJSnB2acs"
      }
    },
    {
      "cell_type": "code",
      "source": [],
      "metadata": {
        "id": "UwA1jfmb2w2l"
      },
      "execution_count": null,
      "outputs": []
    }
  ]
}